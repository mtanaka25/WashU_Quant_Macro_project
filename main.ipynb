{
 "cells": [
  {
   "cell_type": "markdown",
   "id": "ed3a2859",
   "metadata": {},
   "source": [
    "*Final project for Quantitative Macroeconomic Theory at Washington University in St. Louis*\n",
    "# Does the Type of Mortgage Rate Matter? Adjustable Rate and Fixed Rate\n",
    "## Kam, Yu Fai (Geoffrey); Nemoto, Hiroyuki; and Tanaka, Masaki\n"
   ]
  },
  {
   "cell_type": "markdown",
   "id": "c3a5f687",
   "metadata": {},
   "source": [
    "## Step 0. Load modules and set parameters"
   ]
  },
  {
   "cell_type": "markdown",
   "id": "8600df40",
   "metadata": {},
   "source": [
    "### (A) Load modules"
   ]
  },
  {
   "cell_type": "code",
   "execution_count": null,
   "id": "711ee1c0",
   "metadata": {},
   "outputs": [],
   "source": [
    "%matplotlib inline\n",
    "from KNTModel import *\n",
    "from KNTModel.tools import AR1_process\n",
    "import numpy as np"
   ]
  },
  {
   "cell_type": "markdown",
   "id": "d0dc7b0a",
   "metadata": {},
   "source": [
    "### (B) Set parameters\n",
    "#### parameters for the income ($z$) process\n"
   ]
  },
  {
   "cell_type": "code",
   "execution_count": null,
   "id": "342790ba",
   "metadata": {},
   "outputs": [],
   "source": [
    "N_z     = 10    # number of grid points\n",
    "rho_z   = 0.9   # AR1 coefficient\n",
    "sig_z   = 0.1   # size of exogenous shock\n",
    "Omega_z = 4     # range of grid"
   ]
  },
  {
   "cell_type": "markdown",
   "id": "557e5ae9",
   "metadata": {},
   "source": [
    "#### parameters for the aggregate factor ($x$) process"
   ]
  },
  {
   "cell_type": "code",
   "execution_count": null,
   "id": "8f1575c2",
   "metadata": {},
   "outputs": [],
   "source": [
    "N_x     = 5   # number of grid points\n",
    "rho_x   = 0.8 # AR1 coefficient\n",
    "sig_x   = 0.5 # size of exogenous shock\n",
    "Omega_x = 3   # range of grid"
   ]
  },
  {
   "cell_type": "markdown",
   "id": "93e93701",
   "metadata": {},
   "source": [
    "## Step 1. Discretize the exogenous processes\n",
    "### (A) Discretize the income ($z$) process"
   ]
  },
  {
   "cell_type": "markdown",
   "id": "8595028c",
   "metadata": {},
   "source": [
    "Suppose the log income ($\\log z_t$) follows an AR(1) process:\n",
    "$$\n",
    "\\ln z_t = \\rho \\ln z_{t-1} + \\varepsilon_{z, t}\n",
    "$$\n",
    "where $\\varepsilon_{z, t} \\sim \\mathcal{N}(0, \\sigma^2_{z})$."
   ]
  },
  {
   "cell_type": "code",
   "execution_count": null,
   "id": "704a147b",
   "metadata": {},
   "outputs": [],
   "source": [
    "# Generate the instance for the income process\n",
    "lnz_process = AR1_process(rho = rho_z,\n",
    "                          sig = sig_z,\n",
    "                          varname = 'lnz')\n",
    "# Discretize by Tauchen's method\n",
    "lnz_process.discretize(method = 'Tauchen',\n",
    "                       N = N_z,\n",
    "                       Omega = Omega_z,\n",
    "                       is_write_out_result = False)\n",
    "# Get the grid and the transition probabilities\n",
    "z_grid = np.exp(lnz_process.lnz_grid)\n",
    "trans_prob_z = lnz_process.trans_mat"
   ]
  },
  {
   "cell_type": "code",
   "execution_count": null,
   "id": "e1e9b56d",
   "metadata": {},
   "outputs": [],
   "source": [
    "print(z_grid)"
   ]
  },
  {
   "cell_type": "markdown",
   "id": "e6d717c3",
   "metadata": {},
   "source": [
    "### (B) Discretize the aggregate factor ($x$) process"
   ]
  },
  {
   "cell_type": "markdown",
   "id": "be6be1a8",
   "metadata": {},
   "source": [
    "Suppose the log of aggregate factor ($\\log x_t$) also follows an AR(1) process:\n",
    "$$\n",
    "\\ln x_t = \\rho \\ln x_{t-1} + \\varepsilon_{x, t}\n",
    "$$\n",
    "where $\\varepsilon_{x, t} \\sim \\mathcal{N}(0, \\sigma^2_{x})$.\n",
    "\n",
    "In our model, this aggregate factor appears as a pricing wedge in the mortgage rate equation. In tuitively, this aggregate shock captures *e.g.* the risk aversion in the banking sector. Thus, higher $x$ is unfavorable for the economy."
   ]
  },
  {
   "cell_type": "code",
   "execution_count": null,
   "id": "04ad5634",
   "metadata": {},
   "outputs": [],
   "source": [
    "# Generate the instance for the aggregate factor process\n",
    "lnx_process = AR1_process(rho = rho_x,\n",
    "                          sig = sig_x,\n",
    "                          varname = 'lnx')\n",
    "# Discretize by Tauchen's method\n",
    "lnx_process.discretize(method = 'Tauchen',\n",
    "                       N = N_x,\n",
    "                       Omega = Omega_x,\n",
    "                       is_write_out_result = False)\n",
    "# Get the grid and the transition probabilities\n",
    "x_grid = np.exp(lnx_process.lnx_grid)\n",
    "trans_prob_x = lnx_process.trans_mat"
   ]
  },
  {
   "cell_type": "code",
   "execution_count": null,
   "id": "6cf1ec9d",
   "metadata": {},
   "outputs": [],
   "source": [
    "print(x_grid)"
   ]
  },
  {
   "cell_type": "markdown",
   "id": "34db6659",
   "metadata": {},
   "source": [
    "## Step 2. Solve the adjustable-rate model"
   ]
  },
  {
   "cell_type": "markdown",
   "id": "38bf664e",
   "metadata": {},
   "source": [
    "In this economy, the morgage rates for the existing loans vary depending the lender's state."
   ]
  },
  {
   "cell_type": "code",
   "execution_count": null,
   "id": "c3bb592d",
   "metadata": {},
   "outputs": [],
   "source": [
    "# Generate the instance for the adjustable-rate economy\n",
    "ARM_Economy = ARM_FixedHousePrice(z_grid = z_grid,\n",
    "                                  x_grid = x_grid,\n",
    "                                  trans_prob_z = trans_prob_z,\n",
    "                                  trans_prob_x = trans_prob_x,)"
   ]
  },
  {
   "cell_type": "markdown",
   "id": "5ecf059e",
   "metadata": {},
   "source": []
  },
  {
   "cell_type": "code",
   "execution_count": null,
   "id": "4d642464",
   "metadata": {},
   "outputs": [],
   "source": [
    "# Run the value iteration (it may take a few mins depending on # of grid points)\n",
    "ARM_Economy.value_func_iter()"
   ]
  },
  {
   "cell_type": "code",
   "execution_count": null,
   "id": "bba0b396",
   "metadata": {},
   "outputs": [],
   "source": [
    "# Plot value function with respect to a\n",
    "ARM_Economy.plot_value_func(homeownership = 'H',\n",
    "                            axis = 0,\n",
    "                            fixed_states =[(2, 2), (5, 2), (8, 2)],\n",
    "                            fname ='ARM_value_fun_H_wrt_a.png')\n",
    "ARM_Economy.plot_value_func(homeownership = 'N',\n",
    "                            axis = 0,\n",
    "                            fixed_states =[(2, 2), (5, 2), (8, 2)],\n",
    "                            fname ='ARM_value_func_N_wrt_a.png')"
   ]
  },
  {
   "cell_type": "code",
   "execution_count": null,
   "id": "2be200a0",
   "metadata": {
    "scrolled": true
   },
   "outputs": [],
   "source": [
    "# Plot saving function with respect to a\n",
    "ARM_Economy.plot_saving_func(type_of_household = 'HR',\n",
    "                             axis = 0,\n",
    "                             fixed_states =[(2, 2), (5, 2), (8, 2)],\n",
    "                             fname ='ARM_saving_func_HR_wrt_a.png')\n",
    "ARM_Economy.plot_saving_func(type_of_household = 'NP',\n",
    "                             axis = 0,\n",
    "                             fixed_states =[(2, 2), (5, 2), (8, 2)],\n",
    "                             fname ='ARM_saving_func_NP_wrt_a.png')\n",
    "ARM_Economy.plot_saving_func(type_of_household = 'NN',\n",
    "                             axis = 0,\n",
    "                             fixed_states =[(2, 2), (5, 2), (8, 2)],\n",
    "                             fname ='ARM_saving_func_NN_wrt_a.png')"
   ]
  },
  {
   "cell_type": "code",
   "execution_count": null,
   "id": "b3ef4b1d",
   "metadata": {},
   "outputs": [],
   "source": [
    "# Plot default probability with respect to a\n",
    "ARM_Economy.plot_default_prob(axis = 0,\n",
    "                              fixed_states =[(2, 4), (5, 4), (8, 4)],\n",
    "                              fname ='ARM_prob_D_wrt_a.png')"
   ]
  },
  {
   "cell_type": "code",
   "execution_count": null,
   "id": "d2fd467c",
   "metadata": {
    "scrolled": true
   },
   "outputs": [],
   "source": [
    "# Plot probability of buying house with respect to a\n",
    "ARM_Economy.plot_purchase_prob(axis = 0,\n",
    "                              fixed_states =[(2, 2), (5, 2), (8, 2)],\n",
    "                              fname ='ARM_prob_P_wrt_a.png')"
   ]
  },
  {
   "cell_type": "code",
   "execution_count": null,
   "id": "d01b8181",
   "metadata": {},
   "outputs": [],
   "source": [
    "# Plot mortgage rate with respect to a\n",
    "ARM_Economy.plot_mortgage_rate(axis = 0,\n",
    "                               fixed_states =[(2, 2), (5, 2), (8, 2)],\n",
    "                               fname ='ARM_mortgage_rate.png')\n",
    "# Plot mortgage rate with respect to x\n",
    "ARM_Economy.plot_mortgage_rate(axis = 2,\n",
    "                               fixed_states =[(0, 5), (12, 5), (25, 5), (37, 5), (50, 5)],\n",
    "                               fname ='ARM_mortgage_rate.png')"
   ]
  },
  {
   "cell_type": "code",
   "execution_count": null,
   "id": "99c56fa7",
   "metadata": {},
   "outputs": [],
   "source": [
    "# Solve for the stationary distribution\n",
    "ARM_Economy.get_stationary_dist_by_iter()"
   ]
  },
  {
   "cell_type": "code",
   "execution_count": null,
   "id": "1947970b",
   "metadata": {},
   "outputs": [],
   "source": [
    "ARM_Economy.plot_homeownership(fname = 'ARM_homeownership.png')"
   ]
  },
  {
   "cell_type": "code",
   "execution_count": null,
   "id": "d1d948e6",
   "metadata": {},
   "outputs": [],
   "source": [
    "ARM_Economy.plot_stationary_distribution(homeownership = 'H',\n",
    "                                         fixed_axis = 2,\n",
    "                                         fixed_state_id = 2,\n",
    "                                         zlim = None,\n",
    "                                         fname = 'ARM_stationary_dist_H.png')\n",
    "ARM_Economy.plot_stationary_distribution(homeownership = 'N',\n",
    "                                         fixed_axis = 2,\n",
    "                                         fixed_state_id = 2,\n",
    "                                         zlim = None,\n",
    "                                         fname = 'ARM_stationary_dist_N.png')"
   ]
  },
  {
   "cell_type": "markdown",
   "id": "738580e9",
   "metadata": {},
   "source": [
    "## Step 3. Solve the (partially) fixed-rate model"
   ]
  },
  {
   "cell_type": "code",
   "execution_count": null,
   "id": "d7246e6a",
   "metadata": {},
   "outputs": [],
   "source": [
    "# Generate the instance for the (partially) fixed-rate economy\n",
    "FRM_Economy = FRM_FixedHousePrice(z_grid = z_grid,\n",
    "                                  x_grid = x_grid,\n",
    "                                  trans_prob_z = trans_prob_z,\n",
    "                                  trans_prob_x = trans_prob_x,)"
   ]
  },
  {
   "cell_type": "code",
   "execution_count": null,
   "id": "f0379ffd",
   "metadata": {},
   "outputs": [],
   "source": [
    "# Run the value iteration (it may take a few mins depending on # of grid points)\n",
    "FRM_Economy.value_func_iter()"
   ]
  },
  {
   "cell_type": "code",
   "execution_count": null,
   "id": "63694f1e",
   "metadata": {},
   "outputs": [],
   "source": [
    "# Plot value function with respect to a\n",
    "FRM_Economy.plot_value_func(homeownership = 'H',\n",
    "                            axis = 0,\n",
    "                            fixed_states =[(2, 2, 2), (5, 2, 2), (8, 2, 2)],\n",
    "                            fname ='FRM_value_func_homeowner_wrt_a.png')\n",
    "FRM_Economy.plot_value_func(homeownership = 'N',\n",
    "                            axis = 0,\n",
    "                            fixed_states =[(2, 2), (5, 2), (8, 2)],\n",
    "                            fname ='FRM_value_func_nonhomeowner_wrt_a.png')"
   ]
  },
  {
   "cell_type": "code",
   "execution_count": null,
   "id": "6d88ed0e",
   "metadata": {},
   "outputs": [],
   "source": [
    "# Plot saving function with respect to a\n",
    "FRM_Economy.plot_saving_func(type_of_household = 'HR',\n",
    "                             axis = 0,\n",
    "                             fixed_states =[(2, 2, 2), (5, 2, 2), (8, 2, 2)],\n",
    "                             fname ='FRM_saving_func_HR_wrt_a.png')\n",
    "FRM_Economy.plot_saving_func(type_of_household = 'NP',\n",
    "                             axis = 0,\n",
    "                             fixed_states =[(2, 2), (5, 2), (8, 2)],\n",
    "                             fname ='FRM_saving_func_NP_wrt_a.png')\n",
    "FRM_Economy.plot_saving_func(type_of_household = 'NN',\n",
    "                             axis = 0,\n",
    "                             fixed_states =[(2, 2), (5, 2), (8, 2)],\n",
    "                             fname ='FRM_saving_func_NP_wrt_a.png')"
   ]
  },
  {
   "cell_type": "code",
   "execution_count": null,
   "id": "416b2792",
   "metadata": {},
   "outputs": [],
   "source": [
    "# Plot default probability with respect to a\n",
    "FRM_Economy.plot_default_prob(axis = 0,\n",
    "                              fixed_states =[(2, 4, 4), (5, 4, 4), (8, 4, 4)],\n",
    "                              fname ='FRM_prob_D_wrt_a.png')\n",
    "FRM_Economy.plot_default_prob(axis = 4,\n",
    "                              fixed_states =[(2, 4, 2), (15, 4, 2), (28, 4, 2)],\n",
    "                              fname ='FRM_prob_D_wrt_own_z.png')"
   ]
  },
  {
   "cell_type": "code",
   "execution_count": null,
   "id": "7e06332a",
   "metadata": {},
   "outputs": [],
   "source": [
    "# Plot probability of buying house with respect to a\n",
    "FRM_Economy.plot_purchase_prob(axis = 0,\n",
    "                               fixed_states =[(2, 2), (5, 2), (8, 2)],\n",
    "                               fname ='FRM_prob_P_wrt_a.png')"
   ]
  },
  {
   "cell_type": "code",
   "execution_count": null,
   "id": "02d85c9e",
   "metadata": {},
   "outputs": [],
   "source": [
    "# Solve for the stationary distribution\n",
    "FRM_Economy.get_stationary_dist_by_iter()"
   ]
  },
  {
   "cell_type": "code",
   "execution_count": null,
   "id": "02c7930d",
   "metadata": {},
   "outputs": [],
   "source": [
    "FRM_Economy.plot_homeownership(fname = 'FRM_homeownership.png')"
   ]
  },
  {
   "cell_type": "code",
   "execution_count": null,
   "id": "afb37b5e",
   "metadata": {},
   "outputs": [],
   "source": [
    "FRM_Economy.plot_stationary_distribution(homeownership = 'H',\n",
    "                                         fixed_axis = (2, 3),\n",
    "                                         fixed_state_id = (2, 2),\n",
    "                                         zlim = None,\n",
    "                                         fname = 'FRM_stationary_dist_H.png')\n",
    "FRM_Economy.plot_stationary_distribution(homeownership = 'N',\n",
    "                                         fixed_axis = 2,\n",
    "                                         fixed_state_id = 2,\n",
    "                                         zlim = None,\n",
    "                                         fname = 'FRM_stationary_dist_N.png')"
   ]
  },
  {
   "cell_type": "code",
   "execution_count": null,
   "id": "f88ed46d",
   "metadata": {},
   "outputs": [],
   "source": []
  }
 ],
 "metadata": {
  "kernelspec": {
   "display_name": "Python 3.9.12 ('base')",
   "language": "python",
   "name": "python3"
  },
  "language_info": {
   "codemirror_mode": {
    "name": "ipython",
    "version": 3
   },
   "file_extension": ".py",
   "mimetype": "text/x-python",
   "name": "python",
   "nbconvert_exporter": "python",
   "pygments_lexer": "ipython3",
   "version": "3.9.12"
  },
  "vscode": {
   "interpreter": {
    "hash": "40d3a090f54c6569ab1632332b64b2c03c39dcf918b08424e98f38b5ae0af88f"
   }
  }
 },
 "nbformat": 4,
 "nbformat_minor": 5
}
