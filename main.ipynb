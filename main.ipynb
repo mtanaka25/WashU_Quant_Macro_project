{
 "cells": [
  {
   "cell_type": "markdown",
   "id": "ed3a2859",
   "metadata": {},
   "source": [
    "*Final project for Quantitative Macroeconomic Theory at Washington University in St. Louis*\n",
    "# Does the Type of Mortgage Rate Matter? Adjustable Rate and Fixed Rate\n",
    "## Kam, Yu Fai (Geoffrey); Nemoto, Hiroyuki; and Tanaka, Masaki\n"
   ]
  },
  {
   "cell_type": "markdown",
   "id": "e50214a3",
   "metadata": {},
   "source": [
    "## Step 0. Load modules and set parameters"
   ]
  },
  {
   "cell_type": "markdown",
   "id": "cea8cd73",
   "metadata": {},
   "source": [
    "### (A) Load modules"
   ]
  },
  {
   "cell_type": "code",
   "execution_count": 1,
   "id": "711ee1c0",
   "metadata": {},
   "outputs": [],
   "source": [
    "%matplotlib inline\n",
    "from KNTModel import *\n",
    "from KNTModel.tools import AR1_process\n",
    "import numpy as np"
   ]
  },
  {
   "cell_type": "markdown",
   "id": "39aa9e0e",
   "metadata": {},
   "source": [
    "### (B) Set parameters\n",
    "#### parameters for the income ($z$) process\n"
   ]
  },
  {
   "cell_type": "code",
   "execution_count": 2,
   "id": "ffc8959d",
   "metadata": {},
   "outputs": [],
   "source": [
    "N_z     = 10    # number of grid points\n",
    "rho_z   = 0.9   # AR1 coefficient\n",
    "sig_z   = 0.008 # size of exogenous shock\n",
    "Omega_z = 3     # range of grid"
   ]
  },
  {
   "cell_type": "markdown",
   "id": "dad603a0",
   "metadata": {},
   "source": [
    "#### parameters for the aggregate factor ($x$) process"
   ]
  },
  {
   "cell_type": "code",
   "execution_count": 3,
   "id": "19b1dace",
   "metadata": {},
   "outputs": [],
   "source": [
    "N_x     = 5 # number of grid points\n",
    "rho_x   = 0.8 # AR1 coefficient\n",
    "sig_x   = 0.05 # size of exogenous shock\n",
    "Omega_x = 2 # range of grid"
   ]
  },
  {
   "cell_type": "markdown",
   "id": "54a45fe7",
   "metadata": {},
   "source": [
    "## Step 1. Discretize the exogenous process\n",
    "### (A) Discretize the income ($z$) process"
   ]
  },
  {
   "cell_type": "code",
   "execution_count": 4,
   "id": "035cc91d",
   "metadata": {},
   "outputs": [
    {
     "name": "stdout",
     "output_type": "stream",
     "text": [
      "Discretizing the AR(1) process by Tauchen method...\n",
      "Discretization done.\n"
     ]
    }
   ],
   "source": [
    "# Generate the instance for the income process\n",
    "lnz_process = AR1_process(rho = rho_z,\n",
    "                          sig = sig_z,\n",
    "                          varname = 'lnz')\n",
    "# Discretize by Tauchen's method\n",
    "lnz_process.discretize(method = 'Tauchen',\n",
    "                       N = N_z,\n",
    "                       Omega = Omega_z,\n",
    "                       is_write_out_result = False)\n",
    "# Get the grid and the transition probabilities\n",
    "z_grid = np.exp(lnz_process.lnz_grid)\n",
    "trans_prob_z = lnz_process.trans_mat"
   ]
  },
  {
   "cell_type": "markdown",
   "id": "a6c6944c",
   "metadata": {},
   "source": [
    "### (B) Discretize the aggregate factor ($x$) process"
   ]
  },
  {
   "cell_type": "code",
   "execution_count": 5,
   "id": "250a818b",
   "metadata": {},
   "outputs": [
    {
     "name": "stdout",
     "output_type": "stream",
     "text": [
      "Discretizing the AR(1) process by Tauchen method...\n",
      "Discretization done.\n"
     ]
    }
   ],
   "source": [
    "# Generate the instance for the income process\n",
    "x_process = AR1_process(rho = rho_x,\n",
    "                        sig = sig_x,\n",
    "                        varname = 'x')\n",
    "# Discretize by Tauchen's method\n",
    "x_process.discretize(method = 'Tauchen',\n",
    "                     N = N_x,\n",
    "                     Omega = Omega_x,\n",
    "                     is_write_out_result = False)\n",
    "# Get the grid and the transition probabilities\n",
    "x_grid = x_process.x_grid + 1\n",
    "trans_prob_x = x_process.trans_mat"
   ]
  },
  {
   "cell_type": "markdown",
   "id": "99f0e354",
   "metadata": {},
   "source": [
    "## Step 2. Solve the adjustable-rate model"
   ]
  },
  {
   "cell_type": "code",
   "execution_count": 6,
   "id": "01429d60",
   "metadata": {},
   "outputs": [
    {
     "name": "stdout",
     "output_type": "stream",
     "text": [
      "Starting the value function iteration...\n",
      "elapsed time = 0:01:00.443600\n",
      "\n"
     ]
    }
   ],
   "source": [
    "# Generate the instance for the adjustable-rate economy\n",
    "ARM_Economy = ARM_FixedHousePrice(z_grid = z_grid,\n",
    "                                  x_grid = x_grid,\n",
    "                                  trans_prob_z = trans_prob_z,\n",
    "                                  trans_prob_x = trans_prob_x,)\n",
    "# Run the value iteration\n",
    "ARM_Economy.value_func_iter()"
   ]
  },
  {
   "cell_type": "markdown",
   "id": "aa6eb83b",
   "metadata": {},
   "source": [
    "## Step 3. Solve the fixed-rate model"
   ]
  },
  {
   "cell_type": "code",
   "execution_count": 7,
   "id": "22aab389",
   "metadata": {},
   "outputs": [
    {
     "name": "stdout",
     "output_type": "stream",
     "text": [
      "Starting the value function iteration...\n",
      "elapsed time = 0:01:02.112703\n",
      "\n"
     ]
    }
   ],
   "source": [
    "# Generate the instance for the fixed-rate economy\n",
    "FRM_Economy = FRM_FixedHousePrice(z_grid = z_grid,\n",
    "                                  x_grid = x_grid,\n",
    "                                  trans_prob_z = trans_prob_z,\n",
    "                                  trans_prob_x = trans_prob_x,)\n",
    "# Run the value iteration\n",
    "FRM_Economy.value_func_iter()"
   ]
  },
  {
   "cell_type": "code",
   "execution_count": null,
   "id": "51c4e21d",
   "metadata": {},
   "outputs": [],
   "source": []
  },
  {
   "cell_type": "code",
   "execution_count": null,
   "id": "19636511",
   "metadata": {},
   "outputs": [],
   "source": []
  }
 ],
 "metadata": {
  "kernelspec": {
   "display_name": "Python 3 (ipykernel)",
   "language": "python",
   "name": "python3"
  },
  "language_info": {
   "codemirror_mode": {
    "name": "ipython",
    "version": 3
   },
   "file_extension": ".py",
   "mimetype": "text/x-python",
   "name": "python",
   "nbconvert_exporter": "python",
   "pygments_lexer": "ipython3",
   "version": "3.9.12"
  }
 },
 "nbformat": 4,
 "nbformat_minor": 5
}
