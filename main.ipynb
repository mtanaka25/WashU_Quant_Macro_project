{
 "cells": [
  {
   "cell_type": "markdown",
   "id": "ed3a2859",
   "metadata": {},
   "source": [
    "*Final project for Quantitative Macroeconomic Theory at Washington University in St. Louis*\n",
    "# Does the Type of Mortgage Rate Matter? Adjustable Rate and Fixed Rate\n",
    "## Kam, Yu Fai (Geoffrey); Nemoto, Hiroyuki; and Tanaka, Masaki\n"
   ]
  },
  {
   "cell_type": "markdown",
   "id": "c3a5f687",
   "metadata": {},
   "source": [
    "## Step 0. Load modules and set parameters"
   ]
  },
  {
   "cell_type": "markdown",
   "id": "8600df40",
   "metadata": {},
   "source": [
    "### (A) Load modules"
   ]
  },
  {
   "cell_type": "code",
   "execution_count": 1,
   "id": "711ee1c0",
   "metadata": {},
   "outputs": [],
   "source": [
    "%matplotlib inline\n",
    "from KNTModel import *\n",
    "from KNTModel.tools import AR1_process\n",
    "import numpy as np"
   ]
  },
  {
   "cell_type": "markdown",
   "id": "d0dc7b0a",
   "metadata": {},
   "source": [
    "### (B) Set parameters\n",
    "#### parameters for the income ($z$) process\n"
   ]
  },
  {
   "cell_type": "code",
   "execution_count": 2,
   "id": "342790ba",
   "metadata": {},
   "outputs": [],
   "source": [
    "N_z     = 10    # number of grid points\n",
    "rho_z   = 0.9   # AR1 coefficient\n",
    "sig_z   = 0.008 # size of exogenous shock\n",
    "Omega_z = 3     # range of grid"
   ]
  },
  {
   "cell_type": "markdown",
   "id": "557e5ae9",
   "metadata": {},
   "source": [
    "#### parameters for the aggregate factor ($x$) process"
   ]
  },
  {
   "cell_type": "code",
   "execution_count": 3,
   "id": "8f1575c2",
   "metadata": {},
   "outputs": [],
   "source": [
    "N_x     = 5 # number of grid points\n",
    "rho_x   = 0.8 # AR1 coefficient\n",
    "sig_x   = 0.05 # size of exogenous shock\n",
    "Omega_x = 2 # range of grid"
   ]
  },
  {
   "cell_type": "markdown",
   "id": "93e93701",
   "metadata": {},
   "source": [
    "## Step 1. Discretize the exogenous processes\n",
    "### (A) Discretize the income ($z$) process"
   ]
  },
  {
   "cell_type": "code",
   "execution_count": 4,
   "id": "704a147b",
   "metadata": {},
   "outputs": [
    {
     "name": "stdout",
     "output_type": "stream",
     "text": [
      "Discretizing the AR(1) process by Tauchen method...\n",
      "Discretization done.\n"
     ]
    }
   ],
   "source": [
    "# Generate the instance for the income process\n",
    "lnz_process = AR1_process(rho = rho_z,\n",
    "                          sig = sig_z,\n",
    "                          varname = 'lnz')\n",
    "# Discretize by Tauchen's method\n",
    "lnz_process.discretize(method = 'Tauchen',\n",
    "                       N = N_z,\n",
    "                       Omega = Omega_z,\n",
    "                       is_write_out_result = False)\n",
    "# Get the grid and the transition probabilities\n",
    "z_grid = np.exp(lnz_process.lnz_grid)\n",
    "trans_prob_z = lnz_process.trans_mat"
   ]
  },
  {
   "cell_type": "markdown",
   "id": "e6d717c3",
   "metadata": {},
   "source": [
    "### (B) Discretize the aggregate factor ($x$) process"
   ]
  },
  {
   "cell_type": "code",
   "execution_count": 5,
   "id": "04ad5634",
   "metadata": {},
   "outputs": [
    {
     "name": "stdout",
     "output_type": "stream",
     "text": [
      "Discretizing the AR(1) process by Tauchen method...\n",
      "Discretization done.\n"
     ]
    }
   ],
   "source": [
    "# Generate the instance for the aggregate factor process\n",
    "x_process = AR1_process(rho = rho_x,\n",
    "                        sig = sig_x,\n",
    "                        varname = 'x')\n",
    "# Discretize by Tauchen's method\n",
    "x_process.discretize(method = 'Tauchen',\n",
    "                     N = N_x,\n",
    "                     Omega = Omega_x,\n",
    "                     is_write_out_result = False)\n",
    "# Get the grid and the transition probabilities\n",
    "x_grid = x_process.x_grid + 1\n",
    "trans_prob_x = x_process.trans_mat"
   ]
  },
  {
   "cell_type": "markdown",
   "id": "34db6659",
   "metadata": {},
   "source": [
    "## Step 2. Solve the adjustable-rate model"
   ]
  },
  {
   "cell_type": "code",
   "execution_count": 6,
   "id": "c3bb592d",
   "metadata": {},
   "outputs": [],
   "source": [
    "# Generate the instance for the adjustable-rate economy\n",
    "ARM_Economy = ARM_FixedHousePrice(z_grid = z_grid,\n",
    "                                  x_grid = x_grid,\n",
    "                                  trans_prob_z = trans_prob_z,\n",
    "                                  trans_prob_x = trans_prob_x,)"
   ]
  },
  {
   "cell_type": "code",
   "execution_count": 7,
   "id": "4d642464",
   "metadata": {},
   "outputs": [
    {
     "name": "stdout",
     "output_type": "stream",
     "text": [
      "Starting the value function iteration...\n",
      "elapsed time = 0:02:38.975709\n",
      "\n"
     ]
    }
   ],
   "source": [
    "# Run the value iteration\n",
    "ARM_Economy.value_func_iter()"
   ]
  },
  {
   "cell_type": "code",
   "execution_count": 8,
   "id": "99c56fa7",
   "metadata": {},
   "outputs": [
    {
     "name": "stdout",
     "output_type": "stream",
     "text": [
      "Starting to calculate the stationary distribution (under x = 1)...\n",
      "elapsed time = 0:00:00.025329\n",
      "\n",
      "Failed to obtain the stationary distribution. Try again with more max_iter.\n"
     ]
    }
   ],
   "source": [
    "# Solve for the stationary distribution (under x = 1)\n",
    "ARM_Economy.get_stationary_dist()"
   ]
  },
  {
   "cell_type": "markdown",
   "id": "738580e9",
   "metadata": {},
   "source": [
    "## Step 3. Solve the (partially) fixed-rate model"
   ]
  },
  {
   "cell_type": "code",
   "execution_count": 9,
   "id": "d7246e6a",
   "metadata": {},
   "outputs": [],
   "source": [
    "# Generate the instance for the (partially) fixed-rate economy\n",
    "FRM_Economy = FRM_FixedHousePrice(z_grid = z_grid,\n",
    "                                  x_grid = x_grid,\n",
    "                                  trans_prob_z = trans_prob_z,\n",
    "                                  trans_prob_x = trans_prob_x,)"
   ]
  },
  {
   "cell_type": "code",
   "execution_count": 10,
   "id": "f0379ffd",
   "metadata": {},
   "outputs": [
    {
     "name": "stdout",
     "output_type": "stream",
     "text": [
      "Starting the value function iteration...\n",
      "elapsed time = 0:02:36.699778\n",
      "\n"
     ]
    }
   ],
   "source": [
    "# Run the value iteration\n",
    "FRM_Economy.value_func_iter()"
   ]
  },
  {
   "cell_type": "code",
   "execution_count": 11,
   "id": "4f625414",
   "metadata": {},
   "outputs": [
    {
     "name": "stdout",
     "output_type": "stream",
     "text": [
      "Starting to calculate the stationary distribution (under x = 1)...\n",
      "elapsed time = 0:00:00.023502\n",
      "\n",
      "Failed to obtain the stationary distribution. Try again with more max_iter.\n"
     ]
    }
   ],
   "source": [
    "# Solve for the stationary distribution (under x = 1)\n",
    "FRM_Economy.get_stationary_dist()"
   ]
  },
  {
   "cell_type": "code",
   "execution_count": null,
   "id": "416b2792",
   "metadata": {},
   "outputs": [],
   "source": []
  }
 ],
 "metadata": {
  "kernelspec": {
   "display_name": "Python 3 (ipykernel)",
   "language": "python",
   "name": "python3"
  },
  "language_info": {
   "codemirror_mode": {
    "name": "ipython",
    "version": 3
   },
   "file_extension": ".py",
   "mimetype": "text/x-python",
   "name": "python",
   "nbconvert_exporter": "python",
   "pygments_lexer": "ipython3",
   "version": "3.9.12"
  }
 },
 "nbformat": 4,
 "nbformat_minor": 5
}
